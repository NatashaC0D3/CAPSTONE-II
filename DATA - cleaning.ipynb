# **CAPSTONE PROJECT II**
**JCDSOL-013-021 NATASHA VERENA LOHANATHA**
# LATAR BELAKANG
Supermarket melakukan program membership sebagai bentuk pengumpulan sampling untuk mengetahui demografik pelanggan dan insight untuk kegiatan marketing supermarket. Rentang waktu data adalah dari Juni 2012 - Juni 2014 (2 tahun).  
## Pernyataan Masalah
Supermarket ingin mengetahui **siapa kelas pelanggan terbesar mereka, apa kebutuhan mereka dan cara menggapai mereka**. Diketahui secara kasar rendahnya angka customer yang ikut berpartisipasi dalam aktifitas kampanye penjualan. Karena itu informasi ini akan digunakan sebagai landasan perencanaan kampanye marketing periode tahun 2014-2015, tipe "always on" maupun periodik sesuai dengan target market untuk meningkatkan partisipasi dan sebagai bentuk tolak ukur naiknya "brand awareness" diantara customer lama maupun yang akan bergabung nantinya. Kedepannya, data ini juga bisa menjadi faktor pertimbangan untuk tim purchasing dan/atau procurement (divisi produk dan pengembangan bisnis) dalam mengkurasikan barang dan menetapkan harga barang yang sesuai dengan target market Supermarket.    
## Tujuan
* Mengetahui demografik pelanggan Supermarket berdasarkan kelas pendapatan (Income Class) dan kegiatan berbelanja (Membership)
* Mengetahui barang dengan jumlah purchasing tertinggi berdasarkan kelas pendapatan (Income Class) dan kegiatan berbelanja (Membership) 
* Mengetahui channel berbelanja berdasarkan kelas pendapatan (Income Class) dan kegiatan berbelanja (Membership)
* Memprediksi produk unggulan dan bentuk promosi yang sesuai serta menentukan set KPI untuk periode 2014-15 untuk meningkatkan jumlah dan kualitas transaksi di Supermarket   
# READ DATA
import pandas as pd
import numpy as np
import matplotlib.pyplot as plt
import seaborn as sns
import missingno as msno
from scipy import stats
scust = pd.read_csv('Supermarket Customers.csv', delimiter='\t')
scust
Berikut deskripsi informasi yang terdapat di dalam dataset Supermarket Customer: 

| Kategori          | Kolom                 | Deskripsi                                                                     |
| ------------------|-----------------------|------------------------------------------------------------------------------ |
| **People**        | ID                    | Identitas unik customer                                                       |
|                   | Year_Birth            | Tahun lahir customer                                                          |
|                   | Education             | Level edukasi customer                                                        |
|                   | Marital_Status        | Status pernikahan customer                                                    |
|                   | Income                | Pendapatan per tahun customer                                                 |
|                   | Kidhome               | Jumlah anak dalam rumahtangga customer                                        |
|                   | Teenhome              | Jumlah remaja dalam rumahtangga customer                                      |
|                   | Dt_Customer           | tanggal pendaftaran customer menjadi member Supermarket                       |
|                   | Recency               | Jumlah hari sejak terakhir kali customer berbelanja                           |
|                   | Complain              | 1 jika customer pernah komplain selama 2 tahun terakhir, jika tidak 0         |    
| **Products**      | MntWines              | Jumlah (buah) pembelian produk wine dalam 2 tahun terakhir                    |
|                   | MntFruits             | Jumlah (buah) pembelian produk buah dalam 2 tahun terakhir                    |
|                   | MntMeatProducts       | Jumlah (buah) pembelian produk daging dalam 2 tahun terakhir                  |
|                   | MntFishProducts       | Jumlah (buah) pembelian produk ikan dalam 2 tahun terakhir                    |
|                   | MntSweetProducts      | Jumlah (buah) pembelian produk manis dalam 2 tahun terakhir                   |
|                   | MntGoldProds          | Jumlah (buah) pembelian produk emas dalam 2 tahun terakhir                    |
| **Promotion**     | NumDealsPurchases     | Jumlah pembelian menggunakan/melalui promosi                                  |
|                   | AcceptedCmp1          | 1 jika customer menerima tawaran kampanye 1, jika tidak 0                     |
|                   | AcceptedCmp2          | 1 jika customer menerima tawaran kampanye 2, jika tidak 0                     |
|                   | AcceptedCmp3          | 1 jika customer menerima tawaran kampanye 3, jika tidak 0                     |
|                   | AcceptedCmp4          | 1 jika customer menerima tawaran kampanye 4, jika tidak 0                     |
|                   | AcceptedCmp5          | 1 jika customer menerima tawaran kampanye 5, jika tidak 0                     |
|                   | Response              | 1 jika customer menerima tawaran kampanye terakhir, jika tidak 0              |
| **Place**         | NumWebPurchases       | Jumlah pembelian melalui website Supermarket                                  |
|                   | NumCatalogPurchases   | Jumlah pembelian melalui katalog Supermarket                                  |
|                   | NumStorePurchases     | Jumlah pembelian melalui toko Supermarket                                     |
|                   | NumWebVisitsMonth     | Jumlah pengunjungan ke website Supermarket selama sebulan terakhir            |
# DATA UNDERSTANDING
Sebelum masuk ke analisis data, kita akan mengenal lebih lanjut dan mengolah dataset tersebut setelahnya. Di dalam tahapan *Data Understanding* kita akan mengetahui anomali-anomali apa saja yang terdapat di dalam dataset  yang nantinya akan disesuaikan dan ditangani dalam tahapan pengolahan yaitu *Data Cleaning*. Berikut adalah proses *Data Understanding*:   
## Unique
Pertama, kita akan mengidentifikasi data unik per kolom untuk mengetahui jenis insformasi/value yang terdapat dalam tiap kolom:  
pd.set_option('display.max_colwidth', None)
# data uni di tiap kolom
listItem = []
for col in scust.columns :
    listItem.append( [col, scust[col].nunique(), scust[col].unique()])

tabel1Desc = pd.DataFrame(columns=['Column Name', 'Number of Unique', 'Unique Sample'],
                     data=listItem)
tabel1Desc
Komentar: 
* ID adalah unik per individu member 
* "year of birth" (tahun kelahiran) akan diganti menjadi value "age" (umur)
* dalam "education", value 'basic' dan '2n cycle' akan diredefinisikan
* dalam "marital status", value 'alone', 'absurd' dan 'YOLO' akan diredefinisikan
* "marital status" akan dikategorikan menjadi jumlah anggota rumahtangga 1 atau 2 orang, ditambah dengan jumlah dari "kidhome" dan "teenhome" = "household member"     
* "income" akan dikategorikan dengan cara mengkobinasi nilai dari "income" dan "household member" = "income class" 
* kolom "acceptedcmp" tidak berurutan sehingga perlu dirapihkan dengan cara diurutkan  
* "z_revenue" dan "z_costcontact" hanya memiliki 1 data unik, yang artinya kolom tersebut tidak mendiskripsikan maupun membedakan 1 member dengan yang lainnya karena itu kolom ini akan dihapus 
* "response" tidak didefinisikan secara jelas dan spesifik dan berpotensi tumpang tindih dengan data kampanye 5 (kampanye terakhir itu apakah kampanye 5 atau malah 6?) sehingga akan dihapus  
## Type
Kedua, kita akan melihat tipe data value di tiap kolom:
scust.info() 
Komment: 
* "dt_customer" dideskripsikan sebagai tipe "object" padahal value sebenarnya adalah berupa tanggalan (date). Tipe data akan disesuaikan
## Missing
Ketiga, kita akan memeriksa apabila terdapat data tanpa value:  
scust.isna().sum()
Komentar: 
* terdapat 24 'n/a' value di dalam kolom "income". Row atau baris denga value 'n/a' akan dihapus 
## Numerical statistic
Keempat, kita akan melihat data numerical dan melihat distribusi, outliers dan corelation diantara data-data numerical tersebut: 
numerik = scust.select_dtypes(include='number')
scust.describe()
### Distribution
fig = plt.figure(figsize=(20,100)) # horizontal, vertikal

count = 0
for kolom in numerik.columns:
    count += 1
    plt.subplot(13,2,count)
    sns.histplot(numerik[kolom], kde=True)
    plt.title(f"histogram {kolom}")
    fig.tight_layout() # biar tidak tertumpuk
plt.show()
### ouliers
fig = plt.figure(figsize=(20,100)) # horizontal, vertikal

count = 0
for kolom in numerik.columns:
    count += 1
    plt.subplot(13,2,count)
    sns.boxplot(numerik, x = kolom)
    fig.tight_layout() # biar tidak tertumpuk
    plt.title(f'{kolom}')
plt.show()
### Corelations
correlation = scust.corr(method='spearman',numeric_only=True)

plt.figure(figsize=(25,25))
sns.heatmap(correlation, annot=True)
Komentar: 
* distribusi data pada kolom "year birth" dan "income" dinilai tidak normal dikarenakan adanya outliers yang perlu ditangani. Row dengan outliers ini akan dihapus
* ouliers pada produk tidak menjadi masalah karena konteks value yang berkaitan eratdengan jumlah pembelian per member , begitu pula pada data channel pembelian
* korelasi memperlihatkan beberapa poin menarik yang bisa menjadi pertimbangan dalam pengolahan data nantinya: 
    * korelasi antara "income" : "wine", "meat" : "catalogue", "store" 
    * korelasi antara "deals" : "kids", "teen" : "web" 
## Categorical statistic
Kelima, kita akan melihat data kategorical dan diskripsinya: 
kategorik = scust.select_dtypes(exclude='number')
kategorik
kategorik.describe(include='object')
Komentar: 
* data unik pada "edukasi" dan "marital status" akan disesuaikan dan disederhanakan untuk hasil pengolahan data yang lebh rapih dan terstruktur   
# DATA CLEANING
Note: 2240 row x 29 kolom
* remove: 
    * "z_revenue" dan "z_costcontact" hanya memiliki 1 data unik, yang artinya kolom tersebut tidak mendiskripsikan maupun membedakan 1 member dengan yang lainnya
    * 24 'n/a' value di dalam kolom "income"
    * outliers: year birth, income
    * "response" tidak didefinisikan secara jelas dan spesifik dan berpotensi tumpang tindih dengan data kampanye lainnya
* change: 
    * "year of birth" (tahun kelahiran) akan diganti menjadi value "age" (umur) 
    * dalam "education", value 'basic' dan '2n cycle' akan diredefinisikan
    * dalam "marital status", value 'alone', 'absurd' dan 'YOLO' akan diredefinisikan
    * "dt_customer" dideskripsikan sebagai tipe "object" padahal value sebenarnya adalah berupa tanggalan (datetime64)
    * kolom "acceptedcmp" tidak berurutan sehingga perlu dirapihkan dengan cara diurutkan
* add: 
    * "marital status" akan dikategorikan menjadi jumlah anggota rumahtangga 1 atau 2 orang, ditambah dengan jumlah dari "kidhome" dan "teenhome" = "household member"
    * "income" akan dikategorikan dengan cara mengkobinasi nilai dari "income" dan "household member" = "income class"
    * kolom yang mentotal jumlah campaign yang di terima per member = "TotAcceptedCmp"
    * untuk RFM, dimana:
        * value Recency = "R_LastPurchase", dan dibagi menjadi 4 ranking (qcut) dimana ranking 1 tertinggi dan 4 terendah = "Rq_Ranks"
        * value Frequency diambil dari total purchasing di semua channel per member = "F_PlacePurchase", dan dibagi menjadi 4 ranking (qcut) dimana ranking 1 tertinggi dan 4 terendah = "Fq_Ranks" 
        * value Monetary diambil dari total pembelian produk per member = "M_ProductPurchase", dan dibagi menjadi 4 ranking (qcut) dimana ranking 1 tertinggi dan 4 terendah = "Mq_Ranks" 
    * total ranking RFM per member = "RFM_Score", akan manjadi acuan level membership yang dibagi menjadi 4 bagian, dimana Platinum adalah member dengan RFM Tertinggi (paling rajin dan banyak berbelanja), diikuti dengan Gold, Silver dan Bronze sebagai member dengan RFM terendah (paling jarang dan sedikit berbelanja) = "Membership"
scust_clean = scust.copy()
## Removing
### drop unnecessary columns = 3 columns
scust_clean = scust_clean.drop(['Z_CostContact','Z_Revenue', 'Response'], axis=1)
### remove n/a rows = 24 rows
scust_clean.dropna(inplace = True)
### remove outliers at year birth and income = xx rows
def remove_outliers(scust_clean, column):
    Q1 = scust_clean[column].quantile(0.25)
    Q3 = scust_clean[column].quantile(0.75)
    IQR = Q3 - Q1
    lower_bound = Q1 - 1.5 * IQR
    upper_bound = Q3 + 1.5 * IQR
    return scust_clean[(scust_clean[column] >= lower_bound) & (scust_clean[column] <= upper_bound)]

scust_clean = remove_outliers(scust_clean, 'Year_Birth')
scust_clean = remove_outliers(scust_clean, 'Income')
### read data
scust_clean
## Changing
### redefine values - convert "DT_Customer" to datetime
scust_clean['Dt_Customer'] = pd.to_datetime(scust_clean['Dt_Customer'], dayfirst=True)
### redefine values - year birth to age
current_year = 2014
scust_clean.insert(2, 'Age', scust_clean['Year_Birth'].apply(lambda x : current_year-x))
scust_clean.drop('Year_Birth', axis=1, inplace=True)
### redefine values - education

Basic => Graduation || 2n Cycle => Master
scust_clean['Education'].value_counts()    
scust_clean['Education'] = scust_clean['Education'].replace({'2n Cycle': 'Master', 'Basic': 'Graduation'})

scust_clean['Education'].value_counts()
### redefine values - marital status
Together => Married || Divorced, Widow, Alone, Absurd, YOLO => Single
scust_clean['Marital_Status'].value_counts()
scust_clean['Marital_Status'] = scust_clean['Marital_Status'].replace({
    'Together': 'Married', 
    'Divorced': 'Single',
    'Widow': 'Single',
    'Alone': 'Single',
    'Absurd': 'Single', 
    'YOLO': 'Single'
    })

scust_clean['Marital_Status'].value_counts()
### read data
pd.set_option('display.max_colwidth', None)
columns_show = ['Age', 'Education', 'Marital_Status', 'Dt_Customer']
listItem = []
for col in columns_show :
    listItem.append( [col, scust_clean[col].nunique(), scust_clean[col].unique()])

tabel1Desc = pd.DataFrame(columns=['Column Name', 'Number of Unique', 'Unique Sample'],
                     data=listItem)
tabel1Desc
## Adding
### household member
Marital_Status_Count = scust_clean['Marital_Status'].apply(lambda x: 1 if x in ['Single'] else 2)
Household_Member_Total = scust_clean['Kidhome'] + scust_clean['Teenhome'] + Marital_Status_Count

scust_clean.insert(5, 'Household_Member', Household_Member_Total)
scust_clean.drop(['Marital_Status', 'Kidhome', 'Teenhome'], axis=1, inplace=True)
### income class
thresholds = {
    1: {'middle': 24173, 'upper': 72521},
    2: {'middle': 34186, 'upper': 102560},
    3: {'middle': 41869, 'upper': 125609},
    4: {'middle': 48347, 'upper': 145041},
    5: {'middle': 54053, 'upper': 162161},
}

def classify_income(row):
    household = row['Household_Member']
    income = row['Income']
    if household in thresholds:
        if income >= thresholds[household]['upper']:
            return 'High'
        elif income >= thresholds[household]['middle']:
            return 'Medium'
        else:
            return 'Low'
    else:
        # Default classification if household number is not in thresholds
        return 'Unknown'
# Apply the function
scust_clean['Income_Class'] = scust_clean.apply(classify_income, axis=1)
### total accepted campaign
total_accepted_campaign = scust_clean['AcceptedCmp1'] + scust_clean['AcceptedCmp2'] + scust_clean['AcceptedCmp3'] + scust_clean['AcceptedCmp4'] + scust_clean['AcceptedCmp5']

scust_clean.insert(20, 'TotAcceptedCmp', total_accepted_campaign)
### RFM 
#### recency value
#rename 
scust_clean.rename(columns= {'Recency':'R_LastPurchase'}, inplace = True)
#Ranks-Quartile 
scust_clean['Rq_Ranks'] = pd.qcut(scust_clean['R_LastPurchase'], 4, ['1', '2', '3', '4'])
#change data type from category to int
scust_clean['Rq_Ranks'] = scust_clean['Rq_Ranks'].astype(int)
#### frequency value
#new column
total_store_purchase = scust_clean['NumStorePurchases'] + scust_clean['NumCatalogPurchases'] + scust_clean['NumWebPurchases']

scust_clean.insert(17, 'F_PlacePurchase', total_store_purchase)
#Ranks-Quartile 
scust_clean['Fq_Ranks'] = pd.qcut(scust_clean['F_PlacePurchase'], 4, ['1', '2', '3', '4'])
#change data type from category to int
scust_clean['Fq_Ranks'] = scust_clean['Fq_Ranks'].astype(int)
#### monetary value 
#new column
total_product_purchase = scust_clean['MntWines'] + scust_clean['MntFruits'] + scust_clean['MntMeatProducts'] + scust_clean['MntFishProducts'] + scust_clean['MntSweetProducts'] + scust_clean['MntGoldProds']

scust_clean.insert(12, 'M_ProductPurchase', total_product_purchase)
#Ranks-Quartile 
scust_clean['Mq_Ranks'] = pd.qcut(scust_clean['M_ProductPurchase'], 4, ['1', '2', '3', '4'])
#change data type from category to int
scust_clean['Mq_Ranks'] = scust_clean['Mq_Ranks'].astype(int)
#### overall RFM ranks per ID
scust_clean['RFM_Score'] = scust_clean['Rq_Ranks'] + scust_clean['Fq_Ranks'] + scust_clean['Mq_Ranks']
def categorize_score(score):
    if 3 <= score <= 4:
        return 'Platinum Member'
    elif 5 <= score <= 6:
        return 'Golden Member'
    elif 7 <= score <= 9:
        return 'Silver Member'
    elif 10 <= score <= 12:
        return 'Bronze Member'

# Apply function
scust_clean['Membership'] = scust_clean['RFM_Score'].apply(categorize_score)
### re ordering rows
columns_order = [
    'ID', 'Age', 'Education', 'Household_Member', 'Income', 'Income_Class', 
    'Dt_Customer', 'MntWines', 'MntFruits', 'MntMeatProducts', 'MntFishProducts',
    'MntSweetProducts', 'MntGoldProds','M_ProductPurchase', 'Mq_Ranks', 'R_LastPurchase', 'Rq_Ranks', 
    'NumWebVisitsMonth', 'NumWebPurchases', 'NumCatalogPurchases', 'NumStorePurchases', 'F_PlacePurchase', 'Fq_Ranks',  
    'RFM_Score', 'Membership', 'NumDealsPurchases', 'AcceptedCmp1', 'AcceptedCmp2', 'AcceptedCmp3', 'AcceptedCmp4', 'AcceptedCmp5', 
    'TotAcceptedCmp', 'Complain'
]

scust_clean = scust_clean[columns_order]
### read data
scust_clean
| Kategori          | Kolom                 | Deskripsi                                                                     |
| ------------------|-----------------------|------------------------------------------------------------------------------ |
| **People**        | ID                    | Identitas unik customer                                                       |
|                   | Age                   | Umur customer                                                                 |
|                   | Education             | Level edukasi customer                                                        |
|                   | Household_Member      | Jumlah anggota rumahtangga customer                                           |
|                   | Income                | Pendapatan per tahun customer                                                 |
|                   | Income_Class          | Kelas ekonomi per income : household member                                   |
|                   | Dt_Customer           | Tanggal pendaftaran customer menjadi member Supermarket                       |
| **Products**      | MntWines              | Jumlah (buah) pembelian produk wine dalam 2 tahun terakhir                    |
|                   | MntFruits             | Jumlah (buah) pembelian produk buah dalam 2 tahun terakhir                    |
|                   | MntMeatProducts       | Jumlah (buah) pembelian produk daging dalam 2 tahun terakhir                  |
|                   | MntFishProducts       | Jumlah (buah) pembelian produk ikan dalam 2 tahun terakhir                    |
|                   | MntSweetProducts      | Jumlah (buah) pembelian produk manis dalam 2 tahun terakhir                   |
|                   | MntGoldProds          | Jumlah (buah) pembelian produk emas dalam 2 tahun terakhir                    |
|                   | M_ProductPurchase     | Total pembelian produk per member                                             |
|                   | Mq_Ranks              | Ranking total pembelian produk per member                                     |
|                   | R_LastPurchase        | Jumlah hari sejak terakhir kali customer berbelanja                           |
|                   | Rq_Ranks              | Ranking hari sejak terakhir kali customer berbelanja                          |
| **Place**         | NumWebVisitsMonth     | Jumlah pengunjungan ke website Supermarket selama sebulan terakhir            |
|                   | NumWebPurchases       | Jumlah pembelian melalui website Supermarket                                  |
|                   | NumCatalogPurchases   | Jumlah pembelian melalui katalog Supermarket                                  |
|                   | NumStorePurchases     | Jumlah pembelian melalui toko Supermarket                                     |
|                   | F_PlacePurchase       | Total purchasing di semua channel per member                                  |
|                   | Fq_Ranks              | Ranking total purchasing di semua channel per member                          |
| **RFM**           | RFM_Score             | Total ranking dari masing-masing kategori per member                          | 
|                   | Membership            | Label ranking berdasarkan RFM Score                                           |
| **Promotion**     | NumDealsPurchases     | Jumlah pembelian menggunakan/melalui promosi                                  |
|                   | AcceptedCmp1          | 1 jika customer menerima tawaran kampanye 1, jika tidak 0                     |
|                   | AcceptedCmp2          | 1 jika customer menerima tawaran kampanye 2, jika tidak 0                     |
|                   | AcceptedCmp3          | 1 jika customer menerima tawaran kampanye 3, jika tidak 0                     |
|                   | AcceptedCmp4          | 1 jika customer menerima tawaran kampanye 4, jika tidak 0                     |
|                   | AcceptedCmp5          | 1 jika customer menerima tawaran kampanye 5, jika tidak 0                     |
|                   | TotoAcceptedCmp       | Total penerimaan tawaran dari kampanye 1-5                                    |
|                   | Complain              | 1 jika customer pernah komplain selama 2 tahun terakhir, jika tidak 0         |    

## CSV
scust_clean.to_csv('cleaned_supermarket_customer(4).csv', index=False)
